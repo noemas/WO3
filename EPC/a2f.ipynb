{
 "cells": [
  {
   "cell_type": "code",
   "execution_count": 14,
   "metadata": {},
   "outputs": [
    {
     "name": "stdout",
     "output_type": "stream",
     "text": [
      "0.116345955\n",
      "0.5\n"
     ]
    }
   ],
   "source": [
    "import numpy\n",
    "\n",
    "ismear = 10\n",
    "delta_qsmear = 0.05\n",
    "degaussq = 0.05\n",
    "degaussw = 0.025\n",
    "nqstep = 10000\n",
    "nqtotf = 50000\n",
    "\n",
    "phx_file = \"P4nmm_e036_fc/P4nmm_e036_fc.freq.gp\"\n",
    "\n",
    "#read phonon frequencies to obtain maximum frequency and frequency increment\n",
    "phx_disp = numpy.loadtxt(phx_file)\n",
    "nmodes = phx_disp.shape[1] - 1\n",
    "\n",
    "om_max = 1.1 * phx_disp[:, 1:nmodes+1].max()\n",
    "dw = om_max / nqstep\n",
    "\n",
    "\n",
    "sigma = degaussq + (ismear-1) * delta_qsmear\n",
    "\n",
    "for iw in range(1, nqstep):\n",
    "     iomega = iw * dw \n",
    "    for iq in range(1, nqtotf):\n",
    "        for imode in range(1, nmodes):\n",
    "            w0 = wf(imode,iq)\n",
    "        \n",
    "        \n"
   ]
  },
  {
   "cell_type": "code",
   "execution_count": null,
   "metadata": {},
   "outputs": [],
   "source": []
  }
 ],
 "metadata": {
  "kernelspec": {
   "display_name": "Python 3",
   "language": "python",
   "name": "python3"
  },
  "language_info": {
   "codemirror_mode": {
    "name": "ipython",
    "version": 3
   },
   "file_extension": ".py",
   "mimetype": "text/x-python",
   "name": "python",
   "nbconvert_exporter": "python",
   "pygments_lexer": "ipython3",
   "version": "3.6.8"
  }
 },
 "nbformat": 4,
 "nbformat_minor": 2
}
