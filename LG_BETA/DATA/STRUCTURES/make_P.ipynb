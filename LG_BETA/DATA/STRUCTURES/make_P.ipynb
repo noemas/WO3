{
 "cells": [
  {
   "cell_type": "code",
   "execution_count": 19,
   "metadata": {},
   "outputs": [],
   "source": [
    "import numpy as np\n",
    "\n",
    "#load the original coordinates\n",
    "xyz_orig = np.loadtxt(\"P_0.vasp\", skiprows=8)\n",
    "\n",
    "#load the structure with the displacements of the rotational transition mode\n",
    "dxyz_orig = np.loadtxt(\"P_disp.vasp\", skiprows=8)\n",
    "\n",
    "#corresponding amplitude in Angstrom\n",
    "a_orig = 1\n",
    "\n",
    "\n",
    "a_min = 0\n",
    "a_max = 1.2\n",
    "a_fac = -1\n",
    "\n",
    "ndisp = 40\n",
    "\n",
    "#POSCAR header\n",
    "poscar_header = \"\"\"\n",
    "1.0\n",
    "        5.177959919             0.0             0.0\n",
    "        0.0             5.177959919             0.0\n",
    "        0.0             0.0             7.7496299744\n",
    "    W    O\n",
    "    4   12\n",
    "Direct\n",
    "\"\"\"\n",
    "\n",
    "#calculate the displacement\n",
    "dxyz = xyz_orig - dxyz_orig\n",
    "\n",
    "for idisp in range(1, ndisp+1):\n",
    "    a = a_min + idisp* (a_max - a_min)/ndisp \n",
    "    new_xyz = xyz_orig + a/a_orig*dxyz * a_fac\n",
    "\n",
    "    #make the poscar file\n",
    "    poscar_file = poscar_header\n",
    "    for j in range(0, xyz_orig.shape[0]):\n",
    "        for k in range(0, 3):\n",
    "            poscar_file += str(new_xyz[j,k]) + '\\t'\n",
    "        poscar_file += '\\n'\n",
    "    \n",
    "    new_file = \"P_\" + str(idisp) + \".vasp\"\n",
    "    new_file = open(new_file, 'w')\n",
    "    new_file.write(poscar_file)\n",
    "    new_file.close()\n"
   ]
  },
  {
   "cell_type": "code",
   "execution_count": null,
   "metadata": {},
   "outputs": [],
   "source": []
  }
 ],
 "metadata": {
  "kernelspec": {
   "display_name": "Python 3",
   "language": "python",
   "name": "python3"
  },
  "language_info": {
   "codemirror_mode": {
    "name": "ipython",
    "version": 3
   },
   "file_extension": ".py",
   "mimetype": "text/x-python",
   "name": "python",
   "nbconvert_exporter": "python",
   "pygments_lexer": "ipython3",
   "version": "3.6.8"
  }
 },
 "nbformat": 4,
 "nbformat_minor": 2
}
