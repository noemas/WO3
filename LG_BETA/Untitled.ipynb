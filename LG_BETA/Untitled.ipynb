{
 "cells": [
  {
   "cell_type": "code",
   "execution_count": 37,
   "metadata": {},
   "outputs": [
    {
     "name": "stdout",
     "output_type": "stream",
     "text": [
      "[ 1.24983311e+01  2.06237614e+01 -1.53830983e-02  1.94681616e-02\n",
      " -1.18749395e-05  2.34745504e-06]\n"
     ]
    }
   ],
   "source": [
    "%matplotlib qt \n",
    "import numpy\n",
    "import scipy as sc\n",
    "from scipy import optimize\n",
    "import matplotlib.pyplot as plt\n",
    "from mpl_toolkits.mplot3d import Axes3D \n",
    "\n",
    "\n",
    "chem_pot_P4ncc = -9.338011\n",
    "chem_pot_P4nmm = -8.890729\n",
    "chem_pot_Pbcn = -9.702321\n",
    "\n",
    "def m_poly(pq, po, qo, a, b, c, d):\n",
    "    p, q = pq\n",
    "    return a*(p-po) + b*(q-qo) + c*(p-po)*((q-qo)**2) + d*((p-po)**2)*((q-qo)**2)\n",
    "\n",
    "\n",
    "p = numpy.array([0, 13, 26, 40,  0,  0,  0, 13, 26, 40])\n",
    "q = numpy.array([0, 0,   0,  0, 13, 29, 40, 13, 26, 40])\n",
    "\n",
    "chem_pot_m = numpy.array([chem_pot_P4ncc - chem_pot_P4ncc,\n",
    "                 chem_pot_P4ncc - -8.951738,\n",
    "                 chem_pot_P4ncc - chem_pot_P4nmm,\n",
    "                 chem_pot_P4ncc - -9.117503,\n",
    "                 chem_pot_P4ncc - -9.443244,\n",
    "                 chem_pot_P4ncc - chem_pot_Pbcn,\n",
    "                 chem_pot_P4ncc - -10.133527,\n",
    "                 chem_pot_P4ncc - -9.063896,\n",
    "                 chem_pot_P4ncc - -9.256016,\n",
    "                 chem_pot_P4ncc - -9.832201\n",
    "                ])\n",
    "\n",
    "#bnds = ((-1e-4, -1e-4, -1e-2, -1e-2, -1e-2),(1e-4, 1e-4, 1e-2, 1e-2, 1e-2))\n",
    "\n",
    "popt, pcov = sc.optimize.curve_fit(m_poly, (p,q), chem_pot_m)\n",
    "\n",
    "print(popt)\n",
    "\n",
    "x = numpy.linspace(0,40,20)\n",
    "y = numpy.linspace(0,40,20)\n",
    "\n",
    "X,Y = numpy.meshgrid(x,y)\n",
    "Z = popt[2]*(X-popt[0]) + popt[3]*(Y-popt[1]) + popt[4]*((X-popt[0])**2)*(Y-popt[1]) \\\n",
    "    + popt[5]*((X-popt[0])**2)*((Y-popt[1])**2)\n",
    "fig = plt.figure()\n",
    "ax = fig.add_subplot(111, projection='3d')\n",
    "\n",
    "ax.scatter(p, q, chem_pot_m, color='red')\n",
    "ax.plot_surface(X,Y,Z)\n",
    "ax.set_xlabel(\"p\")\n",
    "\n",
    "plt.show()"
   ]
  },
  {
   "cell_type": "code",
   "execution_count": null,
   "metadata": {},
   "outputs": [],
   "source": []
  }
 ],
 "metadata": {
  "kernelspec": {
   "display_name": "Python 3",
   "language": "python",
   "name": "python3"
  },
  "language_info": {
   "codemirror_mode": {
    "name": "ipython",
    "version": 3
   },
   "file_extension": ".py",
   "mimetype": "text/x-python",
   "name": "python",
   "nbconvert_exporter": "python",
   "pygments_lexer": "ipython3",
   "version": "3.7.4"
  }
 },
 "nbformat": 4,
 "nbformat_minor": 2
}
