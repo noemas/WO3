{
 "cells": [
  {
   "cell_type": "code",
   "execution_count": 5,
   "metadata": {
    "scrolled": false
   },
   "outputs": [
    {
     "data": {
      "image/png": "[encoded data removed]",
      "text/plain": [
       "<Figure size 720x720 with 1 Axes>"
      ]
     },
     "metadata": {
      "needs_background": "light"
     },
     "output_type": "display_data"
    },
    {
     "data": {
      "application/vnd.jupyter.widget-view+json": {
       "model_id": "a872c8c5a0d043428e721c62dd2925d3",
       "version_major": 2,
       "version_minor": 0
      },
      "text/plain": [
       "interactive(children=(FloatSlider(value=-0.3, description='a', max=-0.01, min=-0.3, step=0.05), FloatSlider(va…"
      ]
     },
     "metadata": {},
     "output_type": "display_data"
    },
    {
     "data": {
      "text/plain": [
       "<function __main__.plot_analytical(a, b, s)>"
      ]
     },
     "execution_count": 5,
     "metadata": {},
     "output_type": "execute_result"
    }
   ],
   "source": [
    "import numpy as np\n",
    "import matplotlib.pyplot as plt \n",
    "import ipywidgets\n",
    "from ipywidgets import interact, interactive, fixed, interact_manual\n",
    "import scipy as sc\n",
    "from scipy import optimize\n",
    "from mpl_toolkits.mplot3d import Axes3D\n",
    "import random as rnd\n",
    "from scipy.optimize import minimize\n",
    "import scipy.linalg\n",
    "from scipy.optimize import Bounds\n",
    "import multiprocessing\n",
    "\n",
    "#import warnings\n",
    "#warnings.filterwarnings(\"ignore\")\n",
    "\n",
    "%matplotlib inline\n",
    "\n",
    "#numerical minimization parameters\n",
    "#number of points in grid\n",
    "nsteps = 200\n",
    "#length between grid points\n",
    "dx = 1.5\n",
    "#amplitude of initial uniform q\n",
    "q_init = 1\n",
    "#scf convergence threshold\n",
    "scf_conv = 1e-4\n",
    "\n",
    "#volume of unit cell in angstrom cubed for volume normalization\n",
    "volume = 7.3236460686 * 7.7495899200 * 7.3236460686\n",
    "\n",
    "\n",
    "#_________________________________PARAMETERS__________________________________________#\n",
    "\n",
    "#Landau parameters for 6th order fit\n",
    "a = -0.219\n",
    "b = 0.388\n",
    "\n",
    "#Ginzburg parameter\n",
    "s = 223.879619\n",
    "\n",
    "ry_to_mev = 13.605698066 * 1000\n",
    "ry_to_thz = 3289.845\n",
    "thz_to_mev = 0.00414E3\n",
    "aut_to_a = 0.5291772083\n",
    "\n",
    "\n",
    "#__________________________ISING/NO CHARGE______________________________#\n",
    "\n",
    "    \n",
    "\n",
    "#____________NUMERICAL______________#\n",
    "#Q = np.zeros(nsteps) - q_init\n",
    "#Q[int(Q.size/2) : Q.size] = q_init\n",
    "\n",
    "#x grid of size nsteps*dx centered at 0\n",
    "x = np.linspace(0, nsteps*dx, nsteps)\n",
    "x -= x[x.size - 1] / 2 \n",
    "\n",
    "#def Landau_Ginzburg(Q):\n",
    "#    d_Q = np.diff(Q)/dx\n",
    "#    d_Q = np.append(d_Q, d_Q[0])\n",
    "#    E_tot = 0\n",
    "#    for i in range(0, Q.size - 1):\n",
    "#        Landau = a*(Q[i]**2) + b*(Q[i]**4)\n",
    "#        Ginzburg = s * (d_Q[i]**2)\n",
    "#        E_tot += (Landau + Ginzburg) * dx\n",
    "#    return E_tot\n",
    "#\n",
    "#Q_min = minimize(Landau_Ginzburg, Q, method='BFGS')\n",
    "#Q_min = Q_min.x\n",
    "\n",
    "plt.figure(1, figsize=[10,10])\n",
    "plt.xlabel(r'$x [\\mathring{A}]$', fontsize=30)\n",
    "plt.ylabel(r'$q [\\mathring{A}]$', fontsize=30)\n",
    "    \n",
    "#____________ANALYTICAL______________#\n",
    "    epsilon = np.sqrt(-s / a)\n",
    "    Q0 = np.sqrt(-a / (2* b))    \n",
    "    analytical = np.array(Q0*np.tanh(x/(np.sqrt(2)*epsilon)))\n",
    "    \n",
    "    \n",
    "    #_______________PLOT_________________#    \n",
    "    \n",
    "    #plt.plot(x, Q_min, color='blue', linewidth=5, label='numerical')\n",
    "    plt.plot(x, analytical, color='red', linestyle='-', linewidth=5, label='analytical')\n",
    "    \n",
    "\n",
    "\n",
    "    plt.show()\n",
    "    \n",
    "interact(plot_analytical, a=ipywidgets.FloatSlider(min=-0.3, max=-0.01, step=0.05, value=-1),\n",
    "                          b=ipywidgets.FloatSlider(min=0.01, max=0.3, step=0.05, value=0.01),\n",
    "                          s=ipywidgets.IntSlider(min=1, max=200, step=40, value=1))\n"
   ]
  },
  {
   "cell_type": "code",
   "execution_count": null,
   "metadata": {},
   "outputs": [],
   "source": []
  }
 ],
 "metadata": {
  "kernelspec": {
   "display_name": "Python 3",
   "language": "python",
   "name": "python3"
  },
  "language_info": {
   "codemirror_mode": {
    "name": "ipython",
    "version": 3
   },
   "file_extension": ".py",
   "mimetype": "text/x-python",
   "name": "python",
   "nbconvert_exporter": "python",
   "pygments_lexer": "ipython3",
   "version": "3.6.7"
  }
 },
 "nbformat": 4,
 "nbformat_minor": 2
}
