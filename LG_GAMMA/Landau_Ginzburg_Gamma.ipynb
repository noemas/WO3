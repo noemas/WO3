{
 "cells": [
  {
   "cell_type": "code",
   "execution_count": 5,
   "metadata": {
    "scrolled": false
   },
   "outputs": [
    {
     "name": "stdout",
     "output_type": "stream",
     "text": [
      "/home/mnoe/.local/lib/python3.6/site-packages/matplotlib/pyplot.py\n"
     ]
    },
    {
     "ename": "SystemError",
     "evalue": "Bad call flags in PyCFunction_Call. METH_OLDARGS is no longer supported!",
     "output_type": "error",
     "traceback": [
      "\u001b[0;31m---------------------------------------------------------------------------\u001b[0m",
      "\u001b[0;31mSystemError\u001b[0m                               Traceback (most recent call last)",
      "\u001b[0;32m<ipython-input-5-f037fcd83c3a>\u001b[0m in \u001b[0;36m<module>\u001b[0;34m\u001b[0m\n\u001b[1;32m     56\u001b[0m \u001b[0;34m\u001b[0m\u001b[0m\n\u001b[1;32m     57\u001b[0m \u001b[0;31m#x grid of size nsteps*dx centered at 0\u001b[0m\u001b[0;34m\u001b[0m\u001b[0;34m\u001b[0m\u001b[0;34m\u001b[0m\u001b[0m\n\u001b[0;32m---> 58\u001b[0;31m \u001b[0mx\u001b[0m \u001b[0;34m=\u001b[0m \u001b[0mnp\u001b[0m\u001b[0;34m.\u001b[0m\u001b[0mlinspace\u001b[0m\u001b[0;34m(\u001b[0m\u001b[0;36m0\u001b[0m\u001b[0;34m,\u001b[0m \u001b[0mnsteps\u001b[0m\u001b[0;34m*\u001b[0m\u001b[0mdx\u001b[0m\u001b[0;34m,\u001b[0m \u001b[0mnsteps\u001b[0m\u001b[0;34m)\u001b[0m\u001b[0;34m\u001b[0m\u001b[0;34m\u001b[0m\u001b[0m\n\u001b[0m\u001b[1;32m     59\u001b[0m \u001b[0mx\u001b[0m \u001b[0;34m-=\u001b[0m \u001b[0mx\u001b[0m\u001b[0;34m[\u001b[0m\u001b[0mx\u001b[0m\u001b[0;34m.\u001b[0m\u001b[0msize\u001b[0m \u001b[0;34m-\u001b[0m \u001b[0;36m1\u001b[0m\u001b[0;34m]\u001b[0m \u001b[0;34m/\u001b[0m \u001b[0;36m2\u001b[0m\u001b[0;34m\u001b[0m\u001b[0;34m\u001b[0m\u001b[0m\n\u001b[1;32m     60\u001b[0m \u001b[0;34m\u001b[0m\u001b[0m\n",
      "\u001b[0;32m<__array_function__ internals>\u001b[0m in \u001b[0;36mlinspace\u001b[0;34m(*args, **kwargs)\u001b[0m\n",
      "\u001b[0;31mSystemError\u001b[0m: Bad call flags in PyCFunction_Call. METH_OLDARGS is no longer supported!"
     ]
    }
   ],
   "source": [
    "import numpy as np\n",
    "import matplotlib.pyplot as plt \n",
    "import ipywidgets\n",
    "from ipywidgets import interact, interactive, fixed, interact_manual\n",
    "import scipy as sc\n",
    "from scipy import optimize\n",
    "from mpl_toolkits.mplot3d import Axes3D\n",
    "import random as rnd\n",
    "from scipy.optimize import minimize\n",
    "import scipy.linalg\n",
    "from scipy.optimize import Bounds\n",
    "import multiprocessing\n",
    "\n",
    "#import warnings\n",
    "#warnings.filterwarnings(\"ignore\")\n",
    "\n",
    "%matplotlib inline\n",
    "\n",
    "#numerical minimization parameters\n",
    "#number of points in grid\n",
    "nsteps = 200\n",
    "#length between grid points\n",
    "dx = 1.5\n",
    "#amplitude of initial uniform q\n",
    "q_init = 1\n",
    "#scf convergence threshold\n",
    "scf_conv = 1e-4\n",
    "\n",
    "#volume of unit cell in angstrom cubed for volume normalization\n",
    "volume = 7.3236460686 * 7.7495899200 * 7.3236460686\n",
    "\n",
    "\n",
    "#_________________________________PARAMETERS__________________________________________#\n",
    "\n",
    "#Landau parameters for 6th order fit\n",
    "a = -0.219\n",
    "b = 0.388\n",
    "\n",
    "#Ginzburg parameter\n",
    "s = 223.879619\n",
    "\n",
    "ry_to_mev = 13.605698066 * 1000\n",
    "ry_to_thz = 3289.845\n",
    "thz_to_mev = 0.00414E3\n",
    "aut_to_a = 0.5291772083\n",
    "\n",
    "\n",
    "#__________________________ISING/NO CHARGE______________________________#\n",
    "\n",
    "    \n",
    "\n",
    "#____________NUMERICAL______________#\n",
    "#Q = np.zeros(nsteps) - q_init\n",
    "#Q[int(Q.size/2) : Q.size] = q_init\n",
    "\n",
    "#x grid of size nsteps*dx centered at 0\n",
    "x = np.linspace(0, nsteps*dx, nsteps)\n",
    "x -= x[x.size - 1] / 2 \n",
    "\n",
    "#def Landau_Ginzburg(Q):\n",
    "#    d_Q = np.diff(Q)/dx\n",
    "#    d_Q = np.append(d_Q, d_Q[0])\n",
    "#    E_tot = 0\n",
    "#    for i in range(0, Q.size - 1):\n",
    "#        Landau = a*(Q[i]**2) + b*(Q[i]**4)\n",
    "#        Ginzburg = s * (d_Q[i]**2)\n",
    "#        E_tot += (Landau + Ginzburg) * dx\n",
    "#    return E_tot\n",
    "#\n",
    "#Q_min = minimize(Landau_Ginzburg, Q, method='BFGS')\n",
    "#Q_min = Q_min.x\n",
    "    \n",
    "#____________ANALYTICAL______________#\n",
    "def plot_analytical(a, b, s):\n",
    "    \n",
    "    plt.figure(1, figsize=[10,10])\n",
    "    plt.xlabel(r'$x [\\mathring{A}]$', fontsize=30)\n",
    "    plt.ylabel(r'$q [\\mathring{A}]$', fontsize=30)\n",
    "    plt.ylim(-4, 4)    \n",
    "    \n",
    "    epsilon = np.sqrt(-s / a)\n",
    "    Q0 = np.sqrt(-a / (2* b))    \n",
    "    analytical = np.array(Q0*np.tanh(x/(np.sqrt(2)*epsilon)))\n",
    "    \n",
    "    \n",
    "    #_______________PLOT_________________#    \n",
    "    #plt.plot(x, Q_min, color='blue', linewidth=5, label='numerical')\n",
    "    plt.plot(x, analytical, color='red', linestyle='-', linewidth=5, label='analytical')\n",
    "    \n",
    "\n",
    "\n",
    "    plt.show()\n",
    "    \n",
    "interact(plot_analytical, a=ipywidgets.FloatSlider(min=-1, max=-0.01, step=0.05, value=-1),\n",
    "                          b=ipywidgets.FloatSlider(min=0.01, max=0.3, step=0.05, value=0.01),\n",
    "                          s=ipywidgets.IntSlider(min=1, max=300, step=40, value=1))\n"
   ]
  },
  {
   "cell_type": "code",
   "execution_count": null,
   "metadata": {},
   "outputs": [],
   "source": []
  }
 ],
 "metadata": {
  "kernelspec": {
   "display_name": "Python 3",
   "language": "python",
   "name": "python3"
  },
  "language_info": {
   "codemirror_mode": {
    "name": "ipython",
    "version": 3
   },
   "file_extension": ".py",
   "mimetype": "text/x-python",
   "name": "python",
   "nbconvert_exporter": "python",
   "pygments_lexer": "ipython3",
   "version": "3.6.7"
  }
 },
 "nbformat": 4,
 "nbformat_minor": 2
}
